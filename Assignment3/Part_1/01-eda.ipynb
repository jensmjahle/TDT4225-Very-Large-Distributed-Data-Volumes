{
 "cells": [
  {
   "cell_type": "code",
   "id": "initial_id",
   "metadata": {
    "trusted": true,
    "ExecuteTime": {
     "end_time": "2025-10-27T15:13:53.618552Z",
     "start_time": "2025-10-27T15:13:53.584139Z"
    }
   },
   "source": "import pandas as pd\nimport numpy as np\nimport json\nimport ast\nimport csv\nimport seaborn as sns\nimport matplotlib.pyplot as plt\nfrom tabulate import tabulate",
   "outputs": [],
   "execution_count": 3
  },
  {
   "cell_type": "code",
   "id": "19055f1e-bb15-4034-9a96-e98cd97de6e2",
   "metadata": {
    "trusted": true,
    "ExecuteTime": {
     "end_time": "2025-10-27T15:13:53.653150Z",
     "start_time": "2025-10-27T15:13:53.640997Z"
    }
   },
   "source": "#Helper functions\ndef parse_json_safe(x):\n    if pd.isna(x) or x == '':\n        return []\n    try:\n        return json.loads(x) if isinstance(x, str) else x\n    except Exception:\n        try:\n            return ast.literal_eval(x)\n        except Exception:\n            return []\n\ndef pretty_print(df, title=None, n=5):\n    if title:\n        print(f\"\\n===== {title} =====\")\n    print(tabulate(df.head(n), headers=\"keys\", tablefmt=\"fancy_grid\"))\n    if len(df) > n:\n        print(f\"... ({len(df) - n} more rows)\")\n",
   "outputs": [],
   "execution_count": 4
  },
  {
   "cell_type": "code",
   "id": "7e3391642733f366",
   "metadata": {
    "collapsed": false,
    "trusted": true,
    "ExecuteTime": {
     "end_time": "2025-10-27T15:13:55.305145Z",
     "start_time": "2025-10-27T15:13:53.677105Z"
    }
   },
   "source": "\n\nbad_movie_lines = []\nbad_credit_lines = []\nbad_keyword_lines = []\nbad_links_lines = []\nbad_ratings_lines = []\n\ndef log_bad_movie(line):\n    bad_movie_lines.append(line)\n    return None\n\ndef log_bad_credit(line):\n    bad_credit_lines.append(line)\n    return None\n\ndef log_bad_keyword(line):\n    bad_keyword_lines.append(line)\n    return None\n\ndef log_bad_links(line):\n    bad_links_lines.append(line)\n    return None\n\ndef log_bad_ratings(line):\n    bad_ratings_lines.append(line)\n\nmovies = pd.read_csv(\n    \"../movies/movies_metadata.csv\",\n    engine=\"python\",\n    sep=\",\",\n    quotechar='\"',\n    on_bad_lines=lambda line: log_bad_movie(line)\n)\n\nmovie_credits = pd.read_csv(\n    \"../movies/credits.csv\",\n    engine=\"python\",\n    sep=\",\",\n    quotechar='\"',\n    on_bad_lines=lambda line: log_bad_credit(line)\n)\n\nkeywords = pd.read_csv(\n    \"../movies/keywords.csv\",\n    engine=\"python\",\n    sep=\",\",\n    quotechar='\"',\n    on_bad_lines=lambda line: log_bad_keyword(line)\n)\n\nlinks_small = pd.read_csv(\n    \"../movies/links_small.csv\",\n    engine=\"python\",\n    sep=\",\",\n    quotechar='\"',\n    on_bad_lines=lambda line: log_bad_movie(line)\n)\n\nratings_small = pd.read_csv(\n    \"../movies/ratings_small.csv\",\n    engine=\"python\",\n    sep=\",\",\n    quotechar='\"',\n    on_bad_lines=lambda line: log_bad_movie(line)\n)\n\nprint(\"Datasets loaded.\")\nprint(f\"movies: {movies.shape}\")\nprint(f\"credits: {movie_credits.shape}\")\nprint(f\"keywords: {keywords.shape}\")\nprint(f\"links: {links_small.shape}\")\nprint(f\"ratings: {ratings_small.shape}\")\n\nprint(f\"movies skipped lines: {len(bad_movie_lines)}\")\nprint(f\"credits skipped lines: {len(bad_credit_lines)}\")\nprint(f\"keywords skipped lines: {len(bad_keyword_lines)}\")\nprint(f\"links skipped lines: {len(bad_links_lines)}\")\nprint(f\"ratings skipped lines: {len(bad_ratings_lines)}\")\n\nif bad_movie_lines:\n    print(\"example bad movie line:\")\n    print(bad_movie_lines[0][:200])\nif bad_credit_lines:\n    print(\"example bad credit line:\")\n    print(bad_credit_lines[0][:200])\nif bad_keyword_lines:\n    print(\"example bad keyword line:\")\n    print(bad_keyword_lines[0][:200])\nif bad_links_lines:\n    print(\"example bad links small:\")\n    print(bad_links_lines[0][:200])\n\nif bad_ratings_lines:\n    print(\"example bad ratings small:\")\n    print(bad_ratings_lines[0][:200])\n",
   "outputs": [
    {
     "name": "stdout",
     "output_type": "stream",
     "text": [
      "Datasets loaded.\n",
      "movies: (2803, 24)\n",
      "credits: (365, 3)\n",
      "keywords: (46419, 2)\n",
      "links: (9125, 3)\n",
      "ratings: (100004, 4)\n",
      "movies skipped lines: 0\n",
      "credits skipped lines: 0\n",
      "keywords skipped lines: 0\n",
      "links skipped lines: 0\n",
      "ratings skipped lines: 0\n"
     ]
    }
   ],
   "execution_count": 5
  },
  {
   "cell_type": "code",
   "id": "2858517fb2d0eb21",
   "metadata": {
    "collapsed": false,
    "trusted": true,
    "ExecuteTime": {
     "end_time": "2025-10-27T15:13:55.647840Z",
     "start_time": "2025-10-27T15:13:55.637549Z"
    }
   },
   "source": "print(\"hæstkommode\")",
   "outputs": [
    {
     "name": "stdout",
     "output_type": "stream",
     "text": [
      "hæstkommode\n"
     ]
    }
   ],
   "execution_count": 6
  },
  {
   "cell_type": "code",
   "id": "ef4c40e00ded0d9d",
   "metadata": {
    "collapsed": false,
    "trusted": true,
    "ExecuteTime": {
     "end_time": "2025-10-27T15:13:55.688200Z",
     "start_time": "2025-10-27T15:13:55.678782Z"
    }
   },
   "source": "print('hestebanan')",
   "outputs": [
    {
     "name": "stdout",
     "output_type": "stream",
     "text": [
      "hestebanan\n"
     ]
    }
   ],
   "execution_count": 7
  },
  {
   "cell_type": "code",
   "id": "52af63efc5af5408",
   "metadata": {
    "collapsed": false,
    "trusted": true,
    "ExecuteTime": {
     "end_time": "2025-10-27T15:13:55.736393Z",
     "start_time": "2025-10-27T15:13:55.727045Z"
    }
   },
   "source": "print(\"oppdaterforjensmartingjahle\")",
   "outputs": [
    {
     "name": "stdout",
     "output_type": "stream",
     "text": [
      "oppdaterforjensmartingjahle\n"
     ]
    }
   ],
   "execution_count": 8
  }
 ],
 "metadata": {
  "kernelspec": {
   "display_name": "Python 3 (ipykernel)",
   "language": "python",
   "name": "python3"
  },
  "language_info": {
   "codemirror_mode": {
    "name": "ipython",
    "version": 3
   },
   "file_extension": ".py",
   "mimetype": "text/x-python",
   "name": "python",
   "nbconvert_exporter": "python",
   "pygments_lexer": "ipython3",
   "version": "3.13.7"
  }
 },
 "nbformat": 4,
 "nbformat_minor": 5
}
